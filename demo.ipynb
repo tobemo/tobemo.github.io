{
 "cells": [
  {
   "attachments": {},
   "cell_type": "markdown",
   "metadata": {},
   "source": [
    "**Either select `Run` then `Run All Cells` or just press the two arrows `>>` above and then `Restart` to execute all code.**<br>\n",
    "An area will be created to draw numbers on."
   ]
  },
  {
   "cell_type": "code",
   "execution_count": null,
   "metadata": {},
   "outputs": [],
   "source": [
    "%matplotlib widget\n",
    "from inference.main import Demo"
   ]
  },
  {
   "cell_type": "code",
   "execution_count": null,
   "metadata": {},
   "outputs": [],
   "source": [
    "app = Demo(simple=False)\n",
    "# app = Demo(simple=True)"
   ]
  },
  {
   "cell_type": "code",
   "execution_count": null,
   "metadata": {},
   "outputs": [],
   "source": [
    "app.throttle_graph = 15\n",
    "# app.throttle_model = 2"
   ]
  },
  {
   "cell_type": "code",
   "execution_count": null,
   "metadata": {},
   "outputs": [],
   "source": [
    "app"
   ]
  },
  {
   "attachments": {},
   "cell_type": "markdown",
   "metadata": {},
   "source": [
    "> Simple vs not-simple<br>\n",
    "The more advanced version uses a second model that is trained only on the start portions of a stroke. This makes intermediate predictions better at the cost of a slightly slower experience.<br>"
   ]
  }
 ],
 "metadata": {
  "kernelspec": {
   "display_name": ".venv",
   "language": "python",
   "name": "python3"
  },
  "language_info": {
   "codemirror_mode": {
    "name": "ipython",
    "version": 3
   },
   "file_extension": ".py",
   "mimetype": "text/x-python",
   "name": "python",
   "nbconvert_exporter": "python",
   "pygments_lexer": "ipython3",
   "version": "3.10.4"
  },
  "orig_nbformat": 4,
  "vscode": {
   "interpreter": {
    "hash": "4e03b3cc55be4bb018215319ecdcce73a0f3e16113f64202dfff6dd505df5022"
   }
  }
 },
 "nbformat": 4,
 "nbformat_minor": 2
}
