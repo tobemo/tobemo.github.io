{
 "cells": [
  {
   "cell_type": "code",
   "execution_count": null,
   "metadata": {},
   "outputs": [],
   "source": [
    "%matplotlib widget\n",
    "from inference.main import Demo"
   ]
  },
  {
   "cell_type": "code",
   "execution_count": null,
   "metadata": {},
   "outputs": [],
   "source": [
    "app = Demo(simple=False)"
   ]
  },
  {
   "cell_type": "code",
   "execution_count": null,
   "metadata": {},
   "outputs": [],
   "source": [
    "app"
   ]
  },
  {
   "attachments": {},
   "cell_type": "markdown",
   "metadata": {},
   "source": [
    "> Simple vs not-simple<br>\n",
    "The more advanced version uses a second model that is trained on the start portions only of a stroke. <br>\n",
    "The difference can be noticed when drawing a $7$.\n",
    "The simple version considers $2$ a viable option while drawing which partially makes sense. The main difference between a $7$ and a $2$ is the bottom horizontal stroke, the absence of which dictates whether it is actually a $7$ or a $2$. That being said, the top horizontal stroke of a $7$ typically never curves upwards. It is either straight or has a downwards curve. The second model (which, again, focusses on the first portion of a stroke) is better at detecting this and never commits to predicting the number $2$.\n",
    "\n",
    "**Simple:**\n",
    "![simple](simple.png)\n",
    "\n",
    "**Advanced:**\n",
    "![advanced](advanced.png)"
   ]
  }
 ],
 "metadata": {
  "kernelspec": {
   "display_name": ".venv",
   "language": "python",
   "name": "python3"
  },
  "language_info": {
   "codemirror_mode": {
    "name": "ipython",
    "version": 3
   },
   "file_extension": ".py",
   "mimetype": "text/x-python",
   "name": "python",
   "nbconvert_exporter": "python",
   "pygments_lexer": "ipython3",
   "version": "3.10.4"
  },
  "orig_nbformat": 4,
  "vscode": {
   "interpreter": {
    "hash": "d37827cefd74ee31c80df86fbc4824f7175c6a7cbf58056fe0e83889e1cd5b05"
   }
  }
 },
 "nbformat": 4,
 "nbformat_minor": 2
}
