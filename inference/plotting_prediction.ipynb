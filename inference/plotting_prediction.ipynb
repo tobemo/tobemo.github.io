{
 "cells": [
  {
   "cell_type": "code",
   "execution_count": null,
   "metadata": {},
   "outputs": [],
   "source": [
    "from ipywidgets import Output\n",
    "from IPython import display\n",
    "import numpy as np\n",
    "import asciichartpy\n",
    "import time"
   ]
  },
  {
   "cell_type": "code",
   "execution_count": null,
   "metadata": {},
   "outputs": [],
   "source": [
    "chart_cfg = {\n",
    "    'min': 0,\n",
    "    'max': 100,\n",
    "    'height': 10,\n",
    "    'colors': [\n",
    "        asciichartpy.red,\n",
    "        asciichartpy.green,\n",
    "        asciichartpy.yellow,\n",
    "        asciichartpy.blue,\n",
    "        asciichartpy.magenta,\n",
    "        asciichartpy.cyan,\n",
    "        asciichartpy.lightred,\n",
    "        asciichartpy.lightgreen,\n",
    "        asciichartpy.lightyellow,\n",
    "        asciichartpy.lightblue,\n",
    "        asciichartpy.lightmagenta,\n",
    "        asciichartpy.lightcyan,\n",
    "    ]\n",
    "}"
   ]
  },
  {
   "cell_type": "code",
   "execution_count": null,
   "metadata": {},
   "outputs": [],
   "source": [
    "out = Output(layout={'border': '1px solid red', 'height': f\"{25*chart_cfg['height']}px\"})"
   ]
  },
  {
   "cell_type": "code",
   "execution_count": null,
   "metadata": {},
   "outputs": [],
   "source": [
    "x = np.arange(100)\n",
    "x[:3]"
   ]
  },
  {
   "cell_type": "code",
   "execution_count": null,
   "metadata": {},
   "outputs": [],
   "source": [
    "out.append_stdout(asciichartpy.plot( [x.tolist(), (x + 10).tolist()], chart_cfg ))"
   ]
  },
  {
   "attachments": {},
   "cell_type": "markdown",
   "metadata": {},
   "source": [
    "> Epileptic warning!<br>\n",
    "\n",
    "> Does not display colors in VSCode; use jupyter."
   ]
  },
  {
   "cell_type": "code",
   "execution_count": null,
   "metadata": {},
   "outputs": [],
   "source": [
    "out.clear_output(wait=False)"
   ]
  },
  {
   "cell_type": "code",
   "execution_count": null,
   "metadata": {},
   "outputs": [],
   "source": [
    "out.append_stdout(asciichartpy.colored('T', asciichartpy.red))"
   ]
  },
  {
   "cell_type": "code",
   "execution_count": null,
   "metadata": {},
   "outputs": [],
   "source": [
    "out"
   ]
  },
  {
   "cell_type": "code",
   "execution_count": null,
   "metadata": {},
   "outputs": [],
   "source": [
    "for i in range(2, len(x)):\n",
    "    out.outputs = []\n",
    "    # out.clear_output(wait=True)\n",
    "    out.append_stdout(asciichartpy.plot( x[:i], chart_cfg ))\n",
    "    time.sleep(0.1)"
   ]
  },
  {
   "cell_type": "code",
   "execution_count": null,
   "metadata": {},
   "outputs": [],
   "source": [
    "print(asciichartpy.plot( [x.tolist(), (x + 10).tolist()], chart_cfg ))"
   ]
  }
 ],
 "metadata": {
  "kernelspec": {
   "display_name": "Python 3 (ipykernel)",
   "language": "python",
   "name": "python3"
  },
  "language_info": {
   "codemirror_mode": {
    "name": "ipython",
    "version": 3
   },
   "file_extension": ".py",
   "mimetype": "text/x-python",
   "name": "python",
   "nbconvert_exporter": "python",
   "pygments_lexer": "ipython3",
   "version": "3.10.4"
  },
  "vscode": {
   "interpreter": {
    "hash": "d37827cefd74ee31c80df86fbc4824f7175c6a7cbf58056fe0e83889e1cd5b05"
   }
  }
 },
 "nbformat": 4,
 "nbformat_minor": 4
}
