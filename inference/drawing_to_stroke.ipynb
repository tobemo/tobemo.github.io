{
 "cells": [
  {
   "attachments": {},
   "cell_type": "markdown",
   "metadata": {},
   "source": [
    "---\n",
    "---\n",
    "# Preparing Canvas"
   ]
  },
  {
   "cell_type": "code",
   "execution_count": null,
   "metadata": {},
   "outputs": [],
   "source": [
    "import numpy as np\n",
    "from ipycanvas import RoughCanvas, hold_canvas"
   ]
  },
  {
   "cell_type": "code",
   "execution_count": null,
   "metadata": {},
   "outputs": [],
   "source": [
    "border_width = 5\n",
    "\n",
    "_draw_width = _draw_height = 28\n",
    "MULT = 10\n",
    "\n",
    "draw_width = MULT * _draw_width\n",
    "draw_height = MULT * _draw_height\n",
    "\n",
    "UI_width = _draw_width // 4 * MULT\n",
    "UI_height = draw_height\n",
    "\n",
    "total_width = draw_width + UI_width\n",
    "total_height = draw_height"
   ]
  },
  {
   "cell_type": "code",
   "execution_count": null,
   "metadata": {},
   "outputs": [],
   "source": [
    "canvas = RoughCanvas(width=total_width, height=total_height)\n",
    "default_roughness = canvas.roughness\n",
    "default_line_width = canvas.line_width\n",
    "def set_canvas():\n",
    "    canvas.clear_rect(0,0, draw_width+UI_width, draw_height)\n",
    "    canvas.line_width = default_line_width\n",
    "\n",
    "    canvas.roughness = 0\n",
    "    canvas.rough_fill_style = \"solid\"\n",
    "    canvas.fill_style = \"black\"\n",
    "\n",
    "    canvas.fill_rect(0, 0, draw_width, draw_height)\n",
    "    canvas.clear_rect(0+border_width, 0+border_width, draw_width-2*border_width, draw_height-2*border_width)\n",
    "    canvas.fill_style = \"red\"\n",
    "    canvas.fill_rect(draw_width, 0, UI_width, UI_height)\n",
    "    canvas.clear_rect(draw_width+border_width, 0+border_width, UI_width-2*border_width, UI_height-2*border_width)\n",
    "\n",
    "    canvas.global_alpha = 0.2\n",
    "    canvas.roughness = default_roughness\n",
    "    canvas.rough_fill_style = \"hachure\"\n",
    "    canvas.fill_style = \"blue\"\n",
    "    canvas.fill_rect(0+border_width, 0+border_width, draw_width-2*border_width, draw_height-2*border_width)\n",
    "    \n",
    "    canvas.global_alpha = 1\n",
    "    canvas.roughness = 0\n",
    "    canvas.rough_fill_style = \"solid\"\n",
    "    canvas.fill_style = \"black\"\n",
    "    canvas.line_width = 20\n",
    "\n",
    "set_canvas()"
   ]
  },
  {
   "cell_type": "code",
   "execution_count": null,
   "metadata": {},
   "outputs": [],
   "source": [
    "drawing = False\n",
    "position: tuple = None\n",
    "position = [[],[]]"
   ]
  },
  {
   "cell_type": "code",
   "execution_count": null,
   "metadata": {},
   "outputs": [],
   "source": [
    "def on_mouse_down(x, y):\n",
    "    global drawing\n",
    "    global position\n",
    "    global canvas\n",
    "    \n",
    "    if x > draw_width:\n",
    "        set_canvas()\n",
    "        drawing = False\n",
    "        return\n",
    "\n",
    "    position = [[],[]]\n",
    "\n",
    "    drawing = True\n",
    "    position[0].append(x)\n",
    "    position[1].append(y)"
   ]
  },
  {
   "cell_type": "code",
   "execution_count": null,
   "metadata": {},
   "outputs": [],
   "source": [
    "def on_mouse_move(x, y):\n",
    "    global drawing\n",
    "    global position\n",
    "    global shape\n",
    "\n",
    "    if not drawing:\n",
    "        return\n",
    "    \n",
    "    if x > draw_width:\n",
    "        x = draw_width - canvas.line_width\n",
    "    \n",
    "    if len(position[0]) > 0 and len(position[1]) > 0:\n",
    "        with hold_canvas():\n",
    "            canvas.fill_circle(x, y, 0.75*canvas.line_width)\n",
    "            canvas.stroke_line(position[0], position[1], x, y)\n",
    "    \n",
    "    x, y = x // MULT, y // MULT\n",
    "    if (x == position[0][-1]) and (y == position[1][-1]):\n",
    "        return\n",
    "    position[0].append(x)\n",
    "    position[1].append(y)\n"
   ]
  },
  {
   "cell_type": "code",
   "execution_count": null,
   "metadata": {},
   "outputs": [],
   "source": [
    "def on_mouse_up(x, y):\n",
    "    global drawing\n",
    "    global position\n",
    "\n",
    "    if not drawing:\n",
    "        return\n",
    "    drawing = False\n",
    "\n",
    "    if position is not None:\n",
    "        with hold_canvas():\n",
    "            canvas.fill_circle(x, y, 0.75*canvas.line_width)\n",
    "            canvas.stroke_line(position[0], position[1], x, y)"
   ]
  },
  {
   "cell_type": "code",
   "execution_count": null,
   "metadata": {},
   "outputs": [],
   "source": [
    "canvas.on_mouse_down(on_mouse_down)\n",
    "canvas.on_mouse_move(on_mouse_move)\n",
    "canvas.on_mouse_up(on_mouse_up)"
   ]
  },
  {
   "cell_type": "code",
   "execution_count": null,
   "metadata": {},
   "outputs": [],
   "source": [
    "canvas"
   ]
  },
  {
   "attachments": {},
   "cell_type": "markdown",
   "metadata": {},
   "source": [
    "---\n",
    "---\n",
    "# Coordinates & Stroke"
   ]
  },
  {
   "cell_type": "code",
   "execution_count": null,
   "metadata": {},
   "outputs": [],
   "source": [
    "coordinates = np.array(position)\n",
    "coordinates"
   ]
  },
  {
   "cell_type": "code",
   "execution_count": null,
   "metadata": {},
   "outputs": [],
   "source": [
    "stroke = np.diff(coordinates, axis=1)\n",
    "stroke = stroke[:, 1:]\n",
    "stroke"
   ]
  }
 ],
 "metadata": {
  "kernelspec": {
   "display_name": ".venv",
   "language": "python",
   "name": "python3"
  },
  "language_info": {
   "codemirror_mode": {
    "name": "ipython",
    "version": 3
   },
   "file_extension": ".py",
   "mimetype": "text/x-python",
   "name": "python",
   "nbconvert_exporter": "python",
   "pygments_lexer": "ipython3",
   "version": "3.10.4"
  },
  "orig_nbformat": 4,
  "vscode": {
   "interpreter": {
    "hash": "d37827cefd74ee31c80df86fbc4824f7175c6a7cbf58056fe0e83889e1cd5b05"
   }
  }
 },
 "nbformat": 4,
 "nbformat_minor": 2
}
