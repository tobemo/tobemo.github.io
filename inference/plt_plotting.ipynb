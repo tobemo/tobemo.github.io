{
 "cells": [
  {
   "cell_type": "code",
   "execution_count": null,
   "metadata": {},
   "outputs": [],
   "source": [
    "%matplotlib widget\n",
    "\n",
    "import matplotlib.pyplot as plt\n",
    "import numpy as np\n",
    "import ipywidgets as widgets"
   ]
  },
  {
   "cell_type": "code",
   "execution_count": null,
   "metadata": {},
   "outputs": [],
   "source": [
    "fig = plt.figure()\n",
    "plt.plot(np.sin(np.linspace(0, 20, 100)));"
   ]
  },
  {
   "cell_type": "code",
   "execution_count": null,
   "metadata": {},
   "outputs": [],
   "source": [
    "# Always hide the toolbar\n",
    "# fig.canvas.toolbar_visible = False\n",
    "# Hide the Figure name at the top of the figure\n",
    "fig.canvas.header_visible = False\n",
    "# Disable the resizing feature\n",
    "fig.canvas.resizable = False\n",
    "# If true then scrolling while the mouse is over the canvas will not move the entire notebook\n",
    "fig.canvas.capture_scroll = True"
   ]
  },
  {
   "cell_type": "code",
   "execution_count": null,
   "metadata": {},
   "outputs": [],
   "source": [
    "display(fig.canvas)"
   ]
  },
  {
   "attachments": {},
   "cell_type": "markdown",
   "metadata": {},
   "source": [
    "---\n",
    "---\n",
    "# Layouting"
   ]
  },
  {
   "cell_type": "code",
   "execution_count": null,
   "metadata": {},
   "outputs": [],
   "source": [
    "from mpl_toolkits.mplot3d import axes3d\n",
    "X, Y, Z = axes3d.get_test_data(0.05)"
   ]
  },
  {
   "cell_type": "code",
   "execution_count": null,
   "metadata": {},
   "outputs": [],
   "source": [
    "import ipywidgets as widgets\n",
    "\n",
    "with plt.ioff():\n",
    "    fig = plt.figure()\n",
    "\n",
    "ax = fig.gca()\n",
    "ax.imshow(Z)\n",
    "\n",
    "widgets.AppLayout(\n",
    "    center=fig.canvas,\n",
    "    footer=widgets.Button(icon='check'),\n",
    "    pane_heights=[0, 6, 1]\n",
    ")"
   ]
  },
  {
   "attachments": {},
   "cell_type": "markdown",
   "metadata": {},
   "source": [
    "---\n",
    "---\n",
    "# Performance"
   ]
  },
  {
   "cell_type": "code",
   "execution_count": null,
   "metadata": {},
   "outputs": [],
   "source": [
    "# precomputing all images\n",
    "x = np.linspace(0,np.pi,200)\n",
    "y = np.linspace(0,10,200)\n",
    "X,Y = np.meshgrid(x,y)\n",
    "parameter = np.linspace(-5,5)\n",
    "example_image_stack = np.sin(X)[None,:,:]+np.exp(np.cos(Y[None,:,:]*parameter[:,None,None]))"
   ]
  },
  {
   "cell_type": "code",
   "execution_count": null,
   "metadata": {},
   "outputs": [],
   "source": [
    "with plt.ioff():\n",
    "    fig = plt.figure()\n",
    "im = plt.imshow(example_image_stack[0])"
   ]
  },
  {
   "cell_type": "code",
   "execution_count": null,
   "metadata": {},
   "outputs": [],
   "source": [
    "def update(change):\n",
    "    im.set_data(example_image_stack[change['new']])\n",
    "    fig.canvas.draw_idle()"
   ]
  },
  {
   "cell_type": "code",
   "execution_count": null,
   "metadata": {},
   "outputs": [],
   "source": [
    "slider = widgets.IntSlider(value=0, min=0, max=len(parameter)-1)\n",
    "slider.observe(update, names='value')\n",
    "widgets.VBox([slider, fig.canvas])"
   ]
  },
  {
   "attachments": {},
   "cell_type": "markdown",
   "metadata": {},
   "source": [
    "---\n",
    "---\n",
    "# Drawing multiple lines at once"
   ]
  },
  {
   "cell_type": "code",
   "execution_count": null,
   "metadata": {},
   "outputs": [],
   "source": [
    "%matplotlib widget\n",
    "\n",
    "import matplotlib.pyplot as plt\n",
    "import numpy as np\n",
    "import ipywidgets as widgets\n",
    "from ipywidgets import AppLayout"
   ]
  },
  {
   "cell_type": "code",
   "execution_count": null,
   "metadata": {},
   "outputs": [],
   "source": [
    "C = 2\n",
    "x = np.linspace(0, 20, 500)\n",
    "data = np.stack((np.sin(x), np.cos(x)))"
   ]
  },
  {
   "cell_type": "code",
   "execution_count": null,
   "metadata": {},
   "outputs": [],
   "source": [
    "fig, ax = plt.subplots()\n",
    "ax.set_ylim([-1,1])\n",
    "fig.canvas.header_visible = False\n",
    "fig.canvas.resizable = False"
   ]
  },
  {
   "cell_type": "code",
   "execution_count": null,
   "metadata": {},
   "outputs": [],
   "source": [
    "lines = None\n",
    "i = 5\n",
    "if lines is None:\n",
    "    lines = ax.plot(x[:i], data[:,:i].T)\n",
    "    fig.canvas.draw()"
   ]
  },
  {
   "cell_type": "code",
   "execution_count": null,
   "metadata": {},
   "outputs": [],
   "source": [
    "for i in range(5, len(x), 5):\n",
    "    for line, d in zip(lines, data):\n",
    "        line.set_data(x[:i], d[:i])\n",
    "    ax.autoscale_view(False, True)\n",
    "    fig.canvas.draw()\n",
    "    plt.pause(1e-5)\n",
    "        # fig.canvas.flush_events()\n",
    "# else:\n",
    "#     lines = None"
   ]
  },
  {
   "cell_type": "code",
   "execution_count": null,
   "metadata": {},
   "outputs": [],
   "source": [
    "for i in range(5, len(x), 5):\n",
    "    ax.clear()\n",
    "    ax.plot(data[:i])\n",
    "    fig.canvas.draw()"
   ]
  },
  {
   "cell_type": "code",
   "execution_count": null,
   "metadata": {},
   "outputs": [],
   "source": []
  },
  {
   "cell_type": "code",
   "execution_count": null,
   "metadata": {},
   "outputs": [],
   "source": []
  },
  {
   "attachments": {},
   "cell_type": "markdown",
   "metadata": {},
   "source": [
    "---\n",
    "---\n",
    "# OOP"
   ]
  },
  {
   "cell_type": "code",
   "execution_count": null,
   "metadata": {},
   "outputs": [],
   "source": [
    "%matplotlib widget\n",
    "\n",
    "import matplotlib.pyplot as plt\n",
    "import numpy as np\n",
    "import ipywidgets as widgets\n",
    "from ipywidgets import AppLayout"
   ]
  },
  {
   "cell_type": "code",
   "execution_count": null,
   "metadata": {},
   "outputs": [],
   "source": [
    "class Displayer(AppLayout):\n",
    "    def __init__(self, C: int = 1) -> None:\n",
    "        with plt.ioff():\n",
    "            self.fig = plt.figure()\n",
    "        self.fig.canvas.resizable = False\n",
    "        self.fig.canvas.header_visible = False\n",
    "        self.ax = self.fig.gca()\n",
    "        self.ax.set_ylim([-1,1])\n",
    "        self.ax.set_xlim([0, 300])\n",
    "        self.ax.autoscale(False, 'y')\n",
    "        self.ax.set_title('Probabilities Over Time')\n",
    "        self.lines = self.ax.plot(np.arange(0,2), np.ones((C, 2)))\n",
    "        super().__init__(center=self.fig.canvas)\n",
    "        \n",
    "    def plot(self, x) -> None:\n",
    "        x_ax = np.arange(x.shape[0])\n",
    "        if hasattr(self, \"lines\"):\n",
    "            for line, y in zip(self.lines, x.T):\n",
    "                line.set_data(x_ax, y)\n",
    "        else:\n",
    "            self.lines = self.ax.plot(x)\n",
    "        \n",
    "        update_axes = len(x_ax) > self.ax.get_xlim()[1]\n",
    "        if update_axes:\n",
    "            self.ax.set_xlim([0, int(1.5 * self.ax.get_xlim()[1] )])\n",
    "            self.fig.canvas.draw()\n",
    "        # self.fig.canvas.flush_events()\n",
    "    \n",
    "    def clear(self) -> None:\n",
    "        for line in self.lines:\n",
    "            self.ax.lines.remove(line)\n",
    "    \n",
    "    def __del__(self):\n",
    "        plt.close(self.fig)"
   ]
  },
  {
   "cell_type": "code",
   "execution_count": null,
   "metadata": {},
   "outputs": [],
   "source": [
    "disp = Displayer(C=2)\n",
    "disp"
   ]
  },
  {
   "cell_type": "code",
   "execution_count": null,
   "metadata": {},
   "outputs": [],
   "source": [
    "x = np.zeros((2,500))\n",
    "x[0] = np.sin(np.linspace(0, 20, 500))\n",
    "x[1] = np.cos(np.linspace(0, 20, 500))"
   ]
  },
  {
   "cell_type": "code",
   "execution_count": null,
   "metadata": {},
   "outputs": [],
   "source": [
    "for i in range(5, x.shape[1], 10):\n",
    "    # disp.plot(x[:][:i])\n",
    "    disp.plot(x[:,:i].T)"
   ]
  },
  {
   "attachments": {},
   "cell_type": "markdown",
   "metadata": {},
   "source": [
    "---"
   ]
  },
  {
   "cell_type": "code",
   "execution_count": null,
   "metadata": {},
   "outputs": [],
   "source": [
    "# When using the `widget` backend from ipympl,\n",
    "# fig.canvas is a proper Jupyter interactive widget, which can be embedded in\n",
    "# an ipywidgets layout. See https://ipywidgets.readthedocs.io/en/stable/examples/Layout%20Templates.html\n",
    "\n",
    "# One can bound figure attributes to other widget values.\n",
    "from ipywidgets import AppLayout, FloatSlider\n",
    "\n",
    "plt.ioff()\n",
    "\n",
    "slider = FloatSlider(\n",
    "    orientation='horizontal',\n",
    "    description='Factor:',\n",
    "    value=1.0,\n",
    "    min=0.02,\n",
    "    max=2.0\n",
    ")\n",
    "\n",
    "slider.layout.margin = '0px 30% 0px 30%'\n",
    "slider.layout.width = '40%'\n",
    "\n",
    "fig = plt.figure()\n",
    "fig.canvas.header_visible = False\n",
    "fig.canvas.layout.min_height = '400px'\n",
    "plt.title('Plotting: y=sin({} * x)'.format(slider.value))\n",
    "\n",
    "x = np.linspace(0, 20, 500)\n",
    "\n",
    "lines = plt.plot(x, np.sin(slider.value * x))\n",
    "\n",
    "def update_lines(change):\n",
    "    plt.title('Plotting: y=sin({} * x)'.format(change.new))\n",
    "    lines[0].set_data(x, np.sin(change.new * x))\n",
    "    fig.canvas.draw()\n",
    "    fig.canvas.flush_events()\n",
    "\n",
    "slider.observe(update_lines, names='value')\n",
    "\n",
    "AppLayout(\n",
    "    center=fig.canvas,\n",
    "    footer=slider,\n",
    "    pane_heights=[0, 6, 1]\n",
    ")"
   ]
  },
  {
   "attachments": {},
   "cell_type": "markdown",
   "metadata": {},
   "source": [
    "---\n",
    "---\n",
    "# Faster animations \n",
    "https://www.youtube.com/watch?v=51rCh2Do2EE"
   ]
  },
  {
   "cell_type": "code",
   "execution_count": null,
   "metadata": {},
   "outputs": [],
   "source": [
    "%matplotlib widget\n",
    "\n",
    "import time\n",
    "import numpy as np\n",
    "import matplotlib.pyplot as plt\n",
    "from matplotlib.animation import FuncAnimation"
   ]
  },
  {
   "cell_type": "code",
   "execution_count": null,
   "metadata": {},
   "outputs": [],
   "source": [
    "plt.rcParams['figure.figsize'] = (12,4)"
   ]
  },
  {
   "cell_type": "code",
   "execution_count": null,
   "metadata": {},
   "outputs": [],
   "source": [
    "N = 2**7"
   ]
  },
  {
   "cell_type": "code",
   "execution_count": null,
   "metadata": {},
   "outputs": [],
   "source": [
    "lwL, lwR = 2, 1\n",
    "axRxlims = axRylims = [0, N], [0, 160]"
   ]
  },
  {
   "cell_type": "code",
   "execution_count": null,
   "metadata": {},
   "outputs": [],
   "source": [
    "_t = np.linspace(0, N, N)\n",
    "_y = (1+np.sin(5/N*2*np.pi*_t)) * (1+np.cos(2/N*2*np.pi*_t)) * (0.9*_t/N+0.3) + np.random.normal(0.1, 0.01, N)"
   ]
  },
  {
   "cell_type": "code",
   "execution_count": null,
   "metadata": {},
   "outputs": [],
   "source": [
    "dframe = np.full(N+1, fill_value=np.nan)"
   ]
  },
  {
   "cell_type": "code",
   "execution_count": null,
   "metadata": {},
   "outputs": [],
   "source": [
    "t = np.tile(_t, (N,1))\n",
    "y = np.tile(_y, (N, 1))"
   ]
  },
  {
   "cell_type": "code",
   "execution_count": null,
   "metadata": {},
   "outputs": [],
   "source": [
    "for i in range(N):\n",
    "    t[i, i+1:] = np.nan\n",
    "    y[i, i+1:] = np.nan"
   ]
  },
  {
   "attachments": {},
   "cell_type": "markdown",
   "metadata": {},
   "source": [
    "## Replot"
   ]
  },
  {
   "cell_type": "code",
   "execution_count": null,
   "metadata": {},
   "outputs": [],
   "source": [
    "with plt.ioff():\n",
    "    fig, (axL, axR) = plt.subplots(ncols=2, tight_layout=True)"
   ]
  },
  {
   "cell_type": "code",
   "execution_count": null,
   "metadata": {},
   "outputs": [],
   "source": [
    "plt.ioff()\n",
    "fig.suptitle(\"Replot\")\n",
    "for frame in range(N):\n",
    "    axL.clear(), axR.clear()\n",
    "    dframe[frame] = time.perf_counter()\n",
    "    y2 = 1000 * np.diff(dframe)\n",
    "    y2_avg = np.nanmean(y2)\n",
    "    axL.grid()\n",
    "    axL.plot(t[frame], y[frame], lw=lwL)\n",
    "    \n",
    "    fig.canvas.draw()\n",
    "    plt.pause(1e-5)\n",
    "plt.ion()"
   ]
  },
  {
   "attachments": {},
   "cell_type": "markdown",
   "metadata": {},
   "source": [
    "## Partial Replot"
   ]
  },
  {
   "cell_type": "code",
   "execution_count": null,
   "metadata": {},
   "outputs": [],
   "source": [
    "with plt.ioff():\n",
    "    fig, (axL, axR) = plt.subplots(ncols=2, tight_layout=True)\n",
    "axL.grid()\n",
    "lineL = axL.plot([0,1],[0,1])[0]"
   ]
  },
  {
   "cell_type": "code",
   "execution_count": null,
   "metadata": {},
   "outputs": [],
   "source": [
    "plt.ioff()\n",
    "fig.suptitle(\"Partial Replot\")\n",
    "for frame in range(N):\n",
    "    dframe[frame] = time.perf_counter()\n",
    "    y2 = 1000 * np.diff(dframe)\n",
    "    y2_avg = np.nanmean(y2)\n",
    "    # if lineL is None:\n",
    "    #     lineL = axL.plot(t[frame], y[frame], lw=lwL)[0]\n",
    "    # else:\n",
    "    lineL.set_data(t[frame], y[frame])\n",
    "    axL.autoscale_view(True, True)\n",
    "    axL.relim()\n",
    "    \n",
    "    fig.canvas.draw()\n",
    "    plt.pause(1e-7)\n",
    "plt.ion()"
   ]
  },
  {
   "attachments": {},
   "cell_type": "markdown",
   "metadata": {},
   "source": [
    "## Standard Func animation"
   ]
  },
  {
   "cell_type": "code",
   "execution_count": null,
   "metadata": {},
   "outputs": [],
   "source": [
    "with plt.ioff():\n",
    "    fig, (axL, axR) = plt.subplots(ncols=2, tight_layout=True)\n",
    "axL.grid()\n",
    "axR.grid()\n",
    "lineL = axL.plot([0,1],[0,1])[0]\n",
    "lineR = axR.plot([0,1],[0,1])[0]"
   ]
  },
  {
   "cell_type": "code",
   "execution_count": null,
   "metadata": {},
   "outputs": [],
   "source": [
    "def update(frame, frame_times):\n",
    "    frame_times[frame] = time.perf_counter()\n",
    "    dframe[frame] = time.perf_counter()\n",
    "    y2 = 1000 * np.diff(dframe)\n",
    "    y2_avg = np.nanmean(y2)\n",
    "\n",
    "    lineL.set_data(t[frame], y[frame])\n",
    "    lineR.set_data(t[frame], y2)\n",
    "    \n",
    "    fig.canvas.draw()\n",
    "    plt.pause(1e-5)"
   ]
  },
  {
   "cell_type": "code",
   "execution_count": null,
   "metadata": {},
   "outputs": [],
   "source": [
    "ani = FuncAnimation(fig, update, interval=0, fargs=(dframe,), repeat=False, frames=list(range(N)))"
   ]
  },
  {
   "cell_type": "code",
   "execution_count": null,
   "metadata": {},
   "outputs": [],
   "source": [
    "ani"
   ]
  },
  {
   "attachments": {},
   "cell_type": "markdown",
   "metadata": {},
   "source": [
    "## Trying something"
   ]
  },
  {
   "cell_type": "code",
   "execution_count": null,
   "metadata": {},
   "outputs": [],
   "source": [
    "with plt.ioff():\n",
    "    fig, (axL, axR) = plt.subplots(ncols=2, tight_layout=True)\n",
    "axL.grid()\n",
    "lineL = axL.plot([0,1],[0,1])[0]\n",
    "axL.set_ylim([0, 3])\n",
    "axL.set_xlim([0, 75])"
   ]
  },
  {
   "cell_type": "code",
   "execution_count": null,
   "metadata": {},
   "outputs": [],
   "source": [
    "plt.ioff()\n",
    "fig.suptitle(\"Custom\")\n",
    "for frame in range(N):\n",
    "    update_axes = redraw = False\n",
    "    lineL.set_data(t[frame], y[frame])\n",
    "\n",
    "    if frame >= axL.get_xlim()[1]:\n",
    "        update_axes = True\n",
    "        redraw = True\n",
    "    \n",
    "    if update_axes:\n",
    "        axL.set_xlim([0, int(1.5*axL.get_xlim()[1])])\n",
    "    # if redraw:\n",
    "    fig.canvas.draw()\n",
    "    plt.pause(1e-5)\n",
    "plt.ion()"
   ]
  },
  {
   "attachments": {},
   "cell_type": "markdown",
   "metadata": {},
   "source": [
    "---\n",
    "---\n",
    "# graph.py"
   ]
  },
  {
   "cell_type": "code",
   "execution_count": null,
   "metadata": {},
   "outputs": [],
   "source": [
    "%matplotlib widget\n",
    "from inference.graph import ProbabilityPlotter"
   ]
  },
  {
   "cell_type": "code",
   "execution_count": null,
   "metadata": {},
   "outputs": [],
   "source": [
    "plotter = ProbabilityPlotter(list(range(0,10)))"
   ]
  },
  {
   "cell_type": "code",
   "execution_count": null,
   "metadata": {},
   "outputs": [],
   "source": [
    "plotter"
   ]
  }
 ],
 "metadata": {
  "kernelspec": {
   "display_name": ".venv",
   "language": "python",
   "name": "python3"
  },
  "language_info": {
   "codemirror_mode": {
    "name": "ipython",
    "version": 3
   },
   "file_extension": ".py",
   "mimetype": "text/x-python",
   "name": "python",
   "nbconvert_exporter": "python",
   "pygments_lexer": "ipython3",
   "version": "3.10.4"
  },
  "orig_nbformat": 4,
  "vscode": {
   "interpreter": {
    "hash": "d37827cefd74ee31c80df86fbc4824f7175c6a7cbf58056fe0e83889e1cd5b05"
   }
  }
 },
 "nbformat": 4,
 "nbformat_minor": 2
}
